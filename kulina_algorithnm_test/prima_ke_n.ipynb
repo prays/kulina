{
 "cells": [
  {
   "cell_type": "code",
   "execution_count": null,
   "metadata": {
    "collapsed": true
   },
   "outputs": [],
   "source": [
    "#Input bilangan prima ke-N\n",
    "\n",
    "def prima_ke(n):\n",
    "    val = 3\n",
    "    k = 1\n",
    "    while k<n:\n",
    "        if all(val%i!=0 for i in range(2,val)):\n",
    "            k += 1\n",
    "        val += 1\n",
    "    return val-1\n",
    "\n",
    "n = int(input())\n",
    "print('Bilangan prima ke-%i adalah %i'%(n,prima_ke(n)))"
   ]
  }
 ],
 "metadata": {
  "kernelspec": {
   "display_name": "Python 3",
   "language": "python",
   "name": "python3"
  },
  "language_info": {
   "codemirror_mode": {
    "name": "ipython",
    "version": 3
   },
   "file_extension": ".py",
   "mimetype": "text/x-python",
   "name": "python",
   "nbconvert_exporter": "python",
   "pygments_lexer": "ipython3",
   "version": "3.6.4"
  }
 },
 "nbformat": 4,
 "nbformat_minor": 2
}
