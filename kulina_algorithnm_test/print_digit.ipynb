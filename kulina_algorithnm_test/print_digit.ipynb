{
 "cells": [
  {
   "cell_type": "code",
   "execution_count": null,
   "metadata": {
    "collapsed": true
   },
   "outputs": [],
   "source": [
    "#Input suatu bilangan maka akan muncul digit satuan, puluhan, ratusan, dan seterusnya dari setiap digit bilangan tersebut\n",
    "def digit(n):\n",
    "    length = len(n)\n",
    "    for i in range(0,length):\n",
    "        print(n[i] + '0' * (length-1))\n",
    "        length -= 1\n",
    "\n",
    "n = input()\n",
    "digit(n)"
   ]
  }
 ],
 "metadata": {
  "kernelspec": {
   "display_name": "Python 3",
   "language": "python",
   "name": "python3"
  },
  "language_info": {
   "codemirror_mode": {
    "name": "ipython",
    "version": 3
   },
   "file_extension": ".py",
   "mimetype": "text/x-python",
   "name": "python",
   "nbconvert_exporter": "python",
   "pygments_lexer": "ipython3",
   "version": "3.6.4"
  }
 },
 "nbformat": 4,
 "nbformat_minor": 2
}
